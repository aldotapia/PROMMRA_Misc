{
 "cells": [
  {
   "cell_type": "markdown",
   "metadata": {},
   "source": [
    "# Exportar cartografías iterando rásters\n",
    "\n",
    "Este script nace en la necesidad de poder generar cartografías por lote utilizando ArcGIS Pro por sobre otros softwares o herramientas. ArcGIS Pro ofrece una calidad cartográfica superior a R, que es otra herramienta para poder exportar cartografías en lotes.\n",
    "\n",
    "El objetivo es cargar un archivo ráster, extraer el nombre, aplicar una simbología, cambiar el título de la cartografía y exportar la imagen. Cada una de estas tendra por objetivo generar un gif animado de la cobertura de nieve en los últimos años. Crear +1.000 cartografías manualmente no es una opción.\n",
    "\n",
    "El procedimiento es el siguiente. Como siempre, lo primero es cargar las librerías de trabajo:"
   ]
  },
  {
   "cell_type": "code",
   "execution_count": 1,
   "metadata": {},
   "outputs": [],
   "source": [
    "# Cargando arcpy\n",
    "import arcpy\n",
    "# Para listar como diccionario\n",
    "import pprint\n",
    "# Librerías para acceder al sistema\n",
    "import os\n",
    "import sys\n",
    "# Para separar año y día del año\n",
    "import re\n",
    "# Para convertir fechas\n",
    "from datetime import datetime"
   ]
  },
  {
   "cell_type": "markdown",
   "metadata": {},
   "source": [
    "En la siguiente línea se puede colocar la ruta del proyecto donde está el layout que se quiere iterar. Pare este caso es `\"CURRENT\"` debido a que estamos corriendo la rutina desde el proyecto cargado en ArcGIS Pro."
   ]
  },
  {
   "cell_type": "code",
   "execution_count": 2,
   "metadata": {},
   "outputs": [],
   "source": [
    "# Listar proyecto actual\n",
    "aprx = arcpy.mp.ArcGISProject(\"CURRENT\")"
   ]
  },
  {
   "cell_type": "markdown",
   "metadata": {},
   "source": [
    "Luego se llaman los elementos necesarios para poder iterar:\n",
    " - `nieve_map`: mapa llamado Nieve que es el seleccionado para iterar los rásters sobre él.\n",
    " - `nieve`: ráster ya cargado de nombre `ndsi_terra_cqbo_%Y-%j.tif`, este es el archivo que se pretende iterar.\n",
    " - `symbology`: objeto con la simbología de la capa antes mencionada, para que todas las iteraciones tengan la misma simbología.\n",
    " - `rasters`: listado de los nombres de los rásters que se iterarán.\n",
    " - `lyt`: Composición de diseño que se exportará\n",
    " - `main`: Cuadro de texto que contiene el título de la cartografía, se cambiará en cada iteración.\n",
    " - `group`: grupo de capas creado para posicionar la capa cargada entre ciertas coberturas críticas dejando los límites politico-administrativos, la red hidrográfica y ciudades por sobre la cobertura de nieve."
   ]
  },
  {
   "cell_type": "code",
   "execution_count": 3,
   "metadata": {},
   "outputs": [],
   "source": [
    "# LLamar los elementos a modificar\n",
    "nieve_map = aprx.listMaps('Nieve')[0]\n",
    "nieve = nieve_map.listLayers('ndsi*')[0]\n",
    "symbology = nieve.symbology\n",
    "rasters = os.listdir(r\"C:\\Users\\Aldo Tapia\\Desktop\\span0015b\")\n",
    "lyt = aprx.listLayouts('Nieve')[0]\n",
    "main = lyt.listElements('TEXT_ELEMENT','Titulo')[0]\n",
    "group = nieve_map.listLayers('Nieve')[0]"
   ]
  },
  {
   "cell_type": "markdown",
   "metadata": {},
   "source": [
    "El bucle `for` es sencillo. Se carga la ruta el archivo a iterar y del nombre se extrae la fecha para ponerla en dos tipos de formatos, uno para el título y el otro para el nombre del archivo. Luego se elimina el ráster que está en el mapa, se carga el archivo a iterar y se mueve al grupo previamente definido. Finalmente se exporta la composición en formato PNG."
   ]
  },
  {
   "cell_type": "code",
   "execution_count": 4,
   "metadata": {},
   "outputs": [],
   "source": [
    "for x in rasters:\n",
    "    path = os.path.join(r\"C:\\Users\\Aldo Tapia\\Desktop\\span0015b\",x)\n",
    "    date = re.findall(r'\\d+',x)\n",
    "    year = date[0]\n",
    "    doy = date[1]\n",
    "    date2 = datetime.strptime(year + \"-\" + doy, \"%Y-%j\").strftime(\"%d-%m-%Y\")\n",
    "    fdate = datetime.strptime(year + \"-\" + doy, \"%Y-%j\").strftime(\"%Y-%m-%d\")\n",
    "    fname = fdate + '.png'\n",
    "    main.text = 'Cobertura nival de \\n' + date2\n",
    "    nieve_map.removeLayer(nieve)\n",
    "    nieve_map.addDataFromPath(path)\n",
    "    nieve = nieve_map.listLayers('ndsi*')[0]\n",
    "    nieve.symbology = symbology\n",
    "    nieve_map.addLayerToGroup(group,nieve)\n",
    "    nieve_map.removeLayer(nieve)\n",
    "    nieve = nieve_map.listLayers('ndsi*')[0]\n",
    "    lyt.exportToPNG(os.path.join(r'C:\\Users\\Aldo Tapia\\Desktop\\cartos_nieve',fname),300)"
   ]
  }
 ],
 "metadata": {
  "kernelspec": {
   "display_name": "ArcGISPro",
   "language": "Python",
   "name": "python3"
  },
  "language_info": {
   "file_extension": ".py",
   "name": "python",
   "version": "3"
  }
 },
 "nbformat": 4,
 "nbformat_minor": 2
}
